{
  "nbformat": 4,
  "nbformat_minor": 0,
  "metadata": {
    "colab": {
      "provenance": []
    },
    "kernelspec": {
      "name": "python3",
      "display_name": "Python 3"
    },
    "language_info": {
      "name": "python"
    }
  },
  "cells": [
    {
      "cell_type": "code",
      "execution_count": 1,
      "metadata": {
        "colab": {
          "base_uri": "https://localhost:8080/"
        },
        "id": "oCjuTDk1NlZw",
        "outputId": "0a927c84-6fb4-485b-de79-c52a986a9d7a"
      },
      "outputs": [
        {
          "output_type": "stream",
          "name": "stdout",
          "text": [
            "Input Data: [0.5 0.3 0.8]\n",
            "Weights: [0.90415514 0.20095812 0.68051416]\n",
            "Bias: 0.5159221072847718\n",
            "Output Result: 0.8281679526194095\n"
          ]
        }
      ],
      "source": [
        "import numpy as np\n",
        "\n",
        "class Neuron:\n",
        "    def __init__(self, num_inputs):\n",
        "        # Initialize weights and bias with random values\n",
        "        self.weights = np.random.rand(num_inputs)\n",
        "        self.bias = np.random.rand()\n",
        "        self.output = None\n",
        "\n",
        "    def activate(self, x):\n",
        "        # Use a simple activation function, like sigmoid\n",
        "        return 1 / (1 + np.exp(-x))\n",
        "\n",
        "    def forward(self, inputs):\n",
        "        # Ensure the number of inputs matches the number of weights\n",
        "        assert len(inputs) == len(self.weights), \"Number of inputs must match number of weights\"\n",
        "\n",
        "        # Calculate the weighted sum of inputs\n",
        "        weighted_sum = np.dot(inputs, self.weights) + self.bias\n",
        "\n",
        "        # Apply activation function\n",
        "        self.output = self.activate(weighted_sum)\n",
        "\n",
        "        return self.output\n",
        "\n",
        "# Example usage\n",
        "if __name__ == \"__main__\":\n",
        "    # Create a neuron with 3 input nodes\n",
        "    neuron = Neuron(3)\n",
        "\n",
        "    # Provide input values\n",
        "    input_data = np.array([0.5, 0.3, 0.8])\n",
        "\n",
        "    # Get the output of the neuron\n",
        "    output_result = neuron.forward(input_data)\n",
        "\n",
        "    # Display the results\n",
        "    print(\"Input Data:\", input_data)\n",
        "    print(\"Weights:\", neuron.weights)\n",
        "    print(\"Bias:\", neuron.bias)\n",
        "    print(\"Output Result:\", output_result)\n"
      ]
    },
    {
      "cell_type": "code",
      "source": [],
      "metadata": {
        "id": "Ao_F6yN2Qao6"
      },
      "execution_count": null,
      "outputs": []
    }
  ]
}