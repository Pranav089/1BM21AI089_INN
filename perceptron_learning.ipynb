{
  "nbformat": 4,
  "nbformat_minor": 0,
  "metadata": {
    "colab": {
      "provenance": []
    },
    "kernelspec": {
      "name": "python3",
      "display_name": "Python 3"
    },
    "language_info": {
      "name": "python"
    }
  },
  "cells": [
    {
      "cell_type": "code",
      "execution_count": 1,
      "metadata": {
        "colab": {
          "base_uri": "https://localhost:8080/"
        },
        "id": "TriAlVQJTn4J",
        "outputId": "35c12708-b982-46e9-f3e8-d16ed52ce237"
      },
      "outputs": [
        {
          "output_type": "stream",
          "name": "stdout",
          "text": [
            "Trained Weights: [0.49393273 0.2881257 ]\n",
            "Trained Bias: -0.03038927275328912\n",
            "Accuracy: 1.0\n"
          ]
        }
      ],
      "source": [
        "import numpy as np\n",
        "\n",
        "class Perceptron:\n",
        "    def __init__(self, num_inputs, learning_rate=0.01, epochs=100):\n",
        "        # Initialize weights and bias with small random values\n",
        "        self.weights = np.random.rand(num_inputs)\n",
        "        self.bias = np.random.rand()\n",
        "        self.learning_rate = learning_rate\n",
        "        self.epochs = epochs\n",
        "\n",
        "    def activate(self, x):\n",
        "        # Step function as the activation function\n",
        "        return 1 if x >= 0 else 0\n",
        "\n",
        "    def predict(self, inputs):\n",
        "        # Calculate the weighted sum and apply the activation function\n",
        "        weighted_sum = np.dot(inputs, self.weights) + self.bias\n",
        "        return self.activate(weighted_sum)\n",
        "\n",
        "    def train(self, training_data, labels):\n",
        "        for epoch in range(self.epochs):\n",
        "            for inputs, label in zip(training_data, labels):\n",
        "                prediction = self.predict(inputs)\n",
        "                error = label - prediction\n",
        "\n",
        "                # Update weights and bias based on the perceptron learning rule\n",
        "                self.weights += self.learning_rate * error * inputs\n",
        "                self.bias += self.learning_rate * error\n",
        "\n",
        "    def evaluate(self, test_data, labels):\n",
        "        correct_predictions = 0\n",
        "        total_samples = len(test_data)\n",
        "\n",
        "        for inputs, label in zip(test_data, labels):\n",
        "            prediction = self.predict(inputs)\n",
        "            if prediction == label:\n",
        "                correct_predictions += 1\n",
        "\n",
        "        accuracy = correct_predictions / total_samples\n",
        "        return accuracy\n",
        "\n",
        "# Example usage:\n",
        "if __name__ == \"__main__\":\n",
        "    # Define training data and labels (for OR gate)\n",
        "    training_data = np.array([[0, 0], [0, 1], [1, 0], [1, 1]])\n",
        "    labels = np.array([0, 1, 1, 1])  # OR gate labels\n",
        "\n",
        "    # Create a perceptron with 2 input nodes\n",
        "    perceptron = Perceptron(num_inputs=2, learning_rate=0.1, epochs=1000)\n",
        "\n",
        "    # Train the perceptron\n",
        "    perceptron.train(training_data, labels)\n",
        "\n",
        "    # Evaluate the trained perceptron\n",
        "    accuracy = perceptron.evaluate(training_data, labels)\n",
        "\n",
        "    # Display the results\n",
        "    print(\"Trained Weights:\", perceptron.weights)\n",
        "    print(\"Trained Bias:\", perceptron.bias)\n",
        "    print(\"Accuracy:\", accuracy)\n"
      ]
    },
    {
      "cell_type": "code",
      "source": [],
      "metadata": {
        "id": "tunvMGAQUC95"
      },
      "execution_count": null,
      "outputs": []
    }
  ]
}